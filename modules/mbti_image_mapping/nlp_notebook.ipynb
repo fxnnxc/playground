{
 "cells": [
  {
   "cell_type": "code",
   "execution_count": 1,
   "metadata": {},
   "outputs": [],
   "source": [
    "from src.nlp import NLP\n",
    "\n",
    "nlp = NLP()"
   ]
  },
  {
   "cell_type": "code",
   "execution_count": 2,
   "metadata": {},
   "outputs": [
    {
     "name": "stdout",
     "output_type": "stream",
     "text": [
      "[INFO] korean language is translated by googletrans\n"
     ]
    },
    {
     "name": "stderr",
     "output_type": "stream",
     "text": [
      "2it [00:03,  1.94s/it]\n"
     ]
    },
    {
     "data": {
      "text/plain": [
       "([['활발', '활동', '활동적인', '증가', '성장', '관련된'],\n",
       "  ['긍정', '부정적인', '테스트', '격려', '결과', '강한']],\n",
       " [[('activities', 0.7044485211372375),\n",
       "   ('active', 0.5167061686515808),\n",
       "   ('increased', 0.49766767024993896),\n",
       "   ('growth', 0.4836476743221283),\n",
       "   ('related', 0.4702470004558563)],\n",
       "  [('negative', 0.7880401611328125),\n",
       "   ('tested', 0.4973486363887787),\n",
       "   ('encouraging', 0.496070921421051),\n",
       "   ('results', 0.48599088191986084),\n",
       "   ('strong', 0.4809131920337677)]])"
      ]
     },
     "execution_count": 2,
     "metadata": {},
     "output_type": "execute_result"
    }
   ],
   "source": [
    "nlp.propose_similar_words(['활발', '긍정'])"
   ]
  },
  {
   "cell_type": "code",
   "execution_count": 4,
   "metadata": {},
   "outputs": [
    {
     "data": {
      "text/plain": [
       "(None,\n",
       " [[('activities', 0.7044485211372375),\n",
       "   ('active', 0.5167061686515808),\n",
       "   ('increased', 0.49766767024993896),\n",
       "   ('growth', 0.4836476743221283),\n",
       "   ('related', 0.4702470004558563)],\n",
       "  [('negative', 0.7880401611328125),\n",
       "   ('tested', 0.4973486363887787),\n",
       "   ('encouraging', 0.496070921421051),\n",
       "   ('results', 0.48599088191986084),\n",
       "   ('strong', 0.4809131920337677)]])"
      ]
     },
     "execution_count": 4,
     "metadata": {},
     "output_type": "execute_result"
    }
   ],
   "source": [
    "nlp.propose_similar_words(['activity', 'positive'], korean=False)"
   ]
  },
  {
   "cell_type": "code",
   "execution_count": null,
   "metadata": {},
   "outputs": [],
   "source": []
  }
 ],
 "metadata": {
  "interpreter": {
   "hash": "e966f110c074764389f8483774991ea61c05878d5c9b3ec5774fdfbb64a23737"
  },
  "kernelspec": {
   "display_name": "Python 3.8.12 ('deeping')",
   "language": "python",
   "name": "python3"
  },
  "language_info": {
   "codemirror_mode": {
    "name": "ipython",
    "version": 3
   },
   "file_extension": ".py",
   "mimetype": "text/x-python",
   "name": "python",
   "nbconvert_exporter": "python",
   "pygments_lexer": "ipython3",
   "version": "3.9.7"
  },
  "orig_nbformat": 4
 },
 "nbformat": 4,
 "nbformat_minor": 2
}
