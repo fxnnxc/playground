{
 "cells": [
  {
   "cell_type": "code",
   "execution_count": 1,
   "metadata": {},
   "outputs": [
    {
     "name": "stderr",
     "output_type": "stream",
     "text": [
      "/home/bumjin/anaconda3/envs/deeping/lib/python3.8/site-packages/tqdm/auto.py:22: TqdmWarning: IProgress not found. Please update jupyter and ipywidgets. See https://ipywidgets.readthedocs.io/en/stable/user_install.html\n",
      "  from .autonotebook import tqdm as notebook_tqdm\n"
     ]
    },
    {
     "name": "stdout",
     "output_type": "stream",
     "text": [
      "[+] Get the MNIST DATA\n",
      "[+] Finished loading data & Preprocessing\n"
     ]
    }
   ],
   "source": [
    "import torch \n",
    "import torch.nn as nn\n",
    "import torchvision.datasets as vision_dsets\n",
    "from torch.utils import data\n",
    "import torchvision.transforms as T # Transformation functions to manipulate images\n",
    "\n",
    "device = \"cuda\"\n",
    "# device = \"cpu\"\n",
    "\n",
    "def get_mnist_dataloader(root='untracked',train =True,transforms=T.ToTensor() ,download =True,batch_size = 32,num_worker = 1):\n",
    "    print (\"[+] Get the MNIST DATA\")\n",
    "    \"\"\"\n",
    "    We will use Mnist data for our tutorial \n",
    "    \"\"\"\n",
    "    mnist_train = vision_dsets.MNIST(root = root,  #root is the place to store your data. \n",
    "                                    train = True,  \n",
    "                                    transform = transforms,\n",
    "                                    download=download)\n",
    "    mnist_test = vision_dsets.MNIST(root = root,\n",
    "                                    train = False, \n",
    "                                    transform = transforms,\n",
    "                                    download=download)\n",
    "    \"\"\"\n",
    "    Data Loader is a iterator that fetches the data with the number of desired batch size. \n",
    "    * Practical Guide : What is the optimal batch size? \n",
    "      - Usually.., higher the batter. \n",
    "      - We recommend to use it as a multiple of 2 to efficiently utilize the gpu memory. (related to bit size)\n",
    "    \"\"\"\n",
    "    trainDataLoader = data.DataLoader(dataset = mnist_train,  # information about your data type\n",
    "                                      batch_size = batch_size, # batch size\n",
    "                                      shuffle =True, # Whether to shuffle your data for every epoch. (Very important for training performance)\n",
    "                                      num_workers = 1) # number of workers to load your data. (usually number of cpu cores)\n",
    "\n",
    "    testDataLoader = data.DataLoader(dataset = mnist_test, \n",
    "                                    batch_size = batch_size,\n",
    "                                    shuffle = False, # we don't actually need to shuffle data for test\n",
    "                                    num_workers = 1) #\n",
    "    print (\"[+] Finished loading data & Preprocessing\")\n",
    "    return trainDataLoader,testDataLoader\n",
    "\n",
    "trainDataLoader, testDataLoader = get_mnist_dataloader(transforms=T.Compose([T.ToTensor()]))"
   ]
  },
  {
   "cell_type": "code",
   "execution_count": 2,
   "metadata": {},
   "outputs": [],
   "source": [
    "import torch \n",
    "import torch.nn as nn\n",
    "\n",
    "class Model(nn.Module):\n",
    "    def __init__(self, model=\"linear\"):\n",
    "        super().__init__()\n",
    "        self.model_type = model\n",
    "        if model ==\"linear\":\n",
    "            self.linear1 = nn.Linear(784, 128)\n",
    "            self.linear2 = nn.Linear(128, 10)\n",
    "        elif model == \"cnn\":\n",
    "            self.conv1 = nn.Conv2d(in_channels= 1, out_channels=32, kernel_size=3, stride=1)\t\n",
    "            self.conv2 = nn.Conv2d(in_channels=32, out_channels=28, kernel_size=3, stride=2)\n",
    "            self.fc1 = nn.Linear(in_features=4032, out_features=512)\n",
    "            self.fc2 = nn.Linear(in_features=512, out_features=10)\n",
    "            \n",
    "    def forward(self, x):\n",
    "        batch_size = x.size(0)\n",
    "\n",
    "        if self.model_type == \"linear\":\n",
    "            x = x.view(batch_size, -1)\n",
    "            x = self.linear1(x)\n",
    "            x = nn.functional.relu(x)\n",
    "            x = self.linear2(x) \n",
    "        else:\n",
    "\n",
    "            x = nn.functional.relu(self.conv1(x))\n",
    "            x = nn.functional.relu(self.conv2(x))\n",
    "            x = x.contiguous().view(batch_size, -1)\n",
    "            x = self.fc1(x)\n",
    "            x = nn.functional.relu(x)\n",
    "            x = self.fc2(x)\n",
    "        return x \n",
    "\n"
   ]
  },
  {
   "cell_type": "code",
   "execution_count": 3,
   "metadata": {},
   "outputs": [],
   "source": [
    "linear_model = Model(model=\"linear\").to(device=device)\n",
    "cnn_model = Model(model=\"cnn\").to(device=device)"
   ]
  },
  {
   "cell_type": "code",
   "execution_count": 7,
   "metadata": {},
   "outputs": [
    {
     "name": "stdout",
     "output_type": "stream",
     "text": [
      "--- Training Started with model ---\n",
      "Model(\n",
      "  (conv1): Conv2d(1, 32, kernel_size=(3, 3), stride=(1, 1))\n",
      "  (conv2): Conv2d(32, 28, kernel_size=(3, 3), stride=(2, 2))\n",
      "  (fc1): Linear(in_features=4032, out_features=512, bias=True)\n",
      "  (fc2): Linear(in_features=512, out_features=10, bias=True)\n",
      ")\n",
      "[1,   500] loss: 0.293\n",
      "[1,  1000] loss: 0.109\n",
      "[1,  1500] loss: 0.077\n"
     ]
    }
   ],
   "source": [
    "import torch.optim as optim\n",
    "from torch.autograd import Variable\n",
    "\n",
    "\n",
    "def train(net, train_loader, optimizer, criterion,  epoch=2):\n",
    "    net.train()\n",
    "    for e in range(epoch):\n",
    "        running_loss = 0.0  \n",
    "        for i, data in enumerate(train_loader, 0): \n",
    "            # get the inputs\n",
    "            inputs, labels = data # Return type for data in dataloader is tuple of (input_data, labels)\n",
    "            inputs = Variable(inputs).to(device=device)\n",
    "            labels = Variable(labels).to(device=device)\n",
    "            # zero the parameter gradients\n",
    "            optimizer.zero_grad()    \n",
    "\n",
    "            # forward + backward + optimize\n",
    "            outputs = net(inputs) # get output after passing through the network\n",
    "            loss = criterion(outputs, labels) # compute model's score using the loss function \n",
    "            loss.backward() # perform back-propagation from the loss\n",
    "            optimizer.step() # perform gradient descent with given optimizer\n",
    "\n",
    "            # print statistics\n",
    "            running_loss += loss.item()\n",
    "            if (i+1) % 500 == 0:    # print every 2000 mini-batches\n",
    "                print('[%d, %5d] loss: %.3f' % (e + 1, i + 1, running_loss / 500))\n",
    "                running_loss = 0.0\n",
    "\n",
    "criterion = nn.CrossEntropyLoss() \n",
    "models = [cnn_model]\n",
    "optimizers  = [torch.optim.Adam(cnn_model.parameters(), lr=0.001, )]\n",
    "\n",
    "\n",
    "for model, opti, in zip(models, optimizers):\n",
    "    print(\"--- Training Started with model ---\")\n",
    "    print(model)\n",
    "    train(model, trainDataLoader, opti, criterion, 1)\n"
   ]
  },
  {
   "cell_type": "code",
   "execution_count": 8,
   "metadata": {},
   "outputs": [],
   "source": [
    "\n",
    "import sys\n",
    "sys.path.append(\"../\")\n",
    "from src.sensitivity import sensitivity\n",
    "\n",
    "x = trainDataLoader.dataset[10][0].clone()\n",
    "model = models[0]\n",
    "\n",
    "grad = sensitivity(model, x , to=device)"
   ]
  },
  {
   "cell_type": "code",
   "execution_count": 9,
   "metadata": {},
   "outputs": [
    {
     "data": {
      "image/png": "[encoded data removed]",
      "text/plain": [
       "<Figure size 720x720 with 3 Axes>"
      ]
     },
     "metadata": {
      "needs_background": "light"
     },
     "output_type": "display_data"
    }
   ],
   "source": [
    "\n",
    "import copy \n",
    "import matplotlib.pyplot as plt \n",
    "fig, ax = plt.subplots(1, 3, constrained_layout=True, figsize=(10,10))\n",
    "\n",
    "\n",
    "for i, (input_attribution, name) in enumerate(zip([grad], [\"sensitivity\"])):\n",
    "    input = x.detach().cpu().permute(1,2,0)\n",
    "    input_attribution = input_attribution.sum(0).squeeze(0).cpu()\n",
    "    ax[0].imshow(input, cmap='binary')\n",
    "    ax[1].imshow(copy.deepcopy(input_attribution), alpha=0.5, cmap='hot')\n",
    "    ax[2].imshow(input, cmap='binary')\n",
    "    ax[0].set_ylabel(name, fontsize=20)\n",
    "\n",
    "ax[0].set_title(\"original\")\n",
    "ax[1].set_title(\"gradient\")\n",
    "ax[2].set_title(\"overlay\")\n",
    "\n",
    "pcm1 = ax[2].pcolormesh(grad.sum(0).squeeze(0).cpu(), alpha=0.5, cmap='hot')\n",
    "cax = ax[2].inset_axes([1.05, 0.0, 0.2, 1.0], transform=ax[2].transAxes)\n",
    "fig.colorbar(pcm1, ax=ax[2], cax=cax)\n",
    "\n",
    "plt.show()\n",
    "\n"
   ]
  },
  {
   "cell_type": "code",
   "execution_count": null,
   "metadata": {},
   "outputs": [],
   "source": []
  }
 ],
 "metadata": {
  "interpreter": {
   "hash": "cbc4c7136b33e244a0926e55a8aa1e57f1c839903e331a380cefab98f3f0f979"
  },
  "kernelspec": {
   "display_name": "Python 3.8.12 ('deeping')",
   "language": "python",
   "name": "python3"
  },
  "language_info": {
   "codemirror_mode": {
    "name": "ipython",
    "version": 3
   },
   "file_extension": ".py",
   "mimetype": "text/x-python",
   "name": "python",
   "nbconvert_exporter": "python",
   "pygments_lexer": "ipython3",
   "version": "3.8.12"
  },
  "orig_nbformat": 4
 },
 "nbformat": 4,
 "nbformat_minor": 2
}
