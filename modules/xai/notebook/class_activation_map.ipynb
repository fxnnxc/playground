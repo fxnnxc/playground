{
 "cells": [
  {
   "cell_type": "code",
   "execution_count": 1,
   "metadata": {},
   "outputs": [
    {
     "name": "stderr",
     "output_type": "stream",
     "text": [
      "/home/bumjin/anaconda3/envs/deeping/lib/python3.8/site-packages/tqdm/auto.py:22: TqdmWarning: IProgress not found. Please update jupyter and ipywidgets. See https://ipywidgets.readthedocs.io/en/stable/user_install.html\n",
      "  from .autonotebook import tqdm as notebook_tqdm\n"
     ]
    },
    {
     "name": "stdout",
     "output_type": "stream",
     "text": [
      "[+] Get the MNIST DATA\n",
      "[+] Finished loading data & Preprocessing\n"
     ]
    }
   ],
   "source": [
    "import torch \n",
    "import torch.nn as nn\n",
    "import torchvision.datasets as vision_dsets\n",
    "from torch.utils import data\n",
    "import torchvision.transforms as T # Transformation functions to manipulate images\n",
    "\n",
    "device = \"cuda\"\n",
    "# device = \"cpu\"\n",
    "\n",
    "def get_mnist_dataloader(root='untracked',train =True,transforms=T.ToTensor() ,download =True,batch_size = 32,num_worker = 1):\n",
    "    print (\"[+] Get the MNIST DATA\")\n",
    "    \"\"\"\n",
    "    We will use Mnist data for our tutorial \n",
    "    \"\"\"\n",
    "    mnist_train = vision_dsets.MNIST(root = root,  #root is the place to store your data. \n",
    "                                    train = True,  \n",
    "                                    transform = transforms,\n",
    "                                    download=download)\n",
    "    mnist_test = vision_dsets.MNIST(root = root,\n",
    "                                    train = False, \n",
    "                                    transform = transforms,\n",
    "                                    download=download)\n",
    "    \"\"\"\n",
    "    Data Loader is a iterator that fetches the data with the number of desired batch size. \n",
    "    * Practical Guide : What is the optimal batch size? \n",
    "      - Usually.., higher the batter. \n",
    "      - We recommend to use it as a multiple of 2 to efficiently utilize the gpu memory. (related to bit size)\n",
    "    \"\"\"\n",
    "    trainDataLoader = data.DataLoader(dataset = mnist_train,  # information about your data type\n",
    "                                      batch_size = batch_size, # batch size\n",
    "                                      shuffle =True, # Whether to shuffle your data for every epoch. (Very important for training performance)\n",
    "                                      num_workers = 1) # number of workers to load your data. (usually number of cpu cores)\n",
    "\n",
    "    testDataLoader = data.DataLoader(dataset = mnist_test, \n",
    "                                    batch_size = batch_size,\n",
    "                                    shuffle = False, # we don't actually need to shuffle data for test\n",
    "                                    num_workers = 1) #\n",
    "    print (\"[+] Finished loading data & Preprocessing\")\n",
    "    return trainDataLoader,testDataLoader\n",
    "\n",
    "trainDataLoader, testDataLoader = get_mnist_dataloader(transforms=T.Compose([T.ToTensor()]))"
   ]
  },
  {
   "cell_type": "code",
   "execution_count": 2,
   "metadata": {},
   "outputs": [],
   "source": [
    "import torch \n",
    "import torch.nn as nn\n",
    "\n",
    "class Model(nn.Module):\n",
    "    def __init__(self, model=\"linear\"):\n",
    "        super().__init__()\n",
    "        self.model_type = model\n",
    "        if model ==\"linear\":\n",
    "            self.linear1 = nn.Linear(784, 128)\n",
    "            self.linear2 = nn.Linear(128, 10)\n",
    "        elif model == \"cnn\":\n",
    "            self.conv1 = nn.Conv2d(in_channels= 1, out_channels=32, kernel_size=3, stride=1)\t\n",
    "            self.conv2 = nn.Conv2d(in_channels=32, out_channels=64, kernel_size=3, stride=1)\n",
    "            self.conv3 = nn.Conv2d(in_channels=64, out_channels=128, kernel_size=3, stride=1)\n",
    "            self.fc1 = nn.Linear(in_features=128, out_features=10, bias=False)\n",
    "            \n",
    "    def forward(self, x):\n",
    "        batch_size = x.size(0)\n",
    "        x = nn.functional.relu(self.conv1(x))\n",
    "        x = nn.functional.relu(self.conv2(x))\n",
    "        x = nn.functional.relu(self.conv3(x))\n",
    "        last_convolution_features = x\n",
    "        F_k = torch.nn.functional.adaptive_avg_pool2d(last_convolution_features, (1,1)).view(batch_size, -1)\n",
    "        x =  nn.functional.relu(self.fc1(F_k))\n",
    "        return x \n",
    "\n",
    "    def forward_for_cam(self, x):\n",
    "        batch_size = x.size(0)\n",
    "        assert batch_size == 1\n",
    "        x = nn.functional.relu(self.conv1(x))\n",
    "        x = nn.functional.relu(self.conv2(x))\n",
    "        x = nn.functional.relu(self.conv3(x))\n",
    "        last_convolution_features = x\n",
    "        F_k = torch.nn.functional.adaptive_avg_pool2d(last_convolution_features, (1,1)).view(batch_size, -1)\n",
    "        x =  nn.functional.relu(self.fc1(F_k))\n",
    "        _class = x.argmax(axis=-1).item()\n",
    "        return x, last_convolution_features, self.fc1.weight[_class, :]\n",
    "\n",
    "cnn_model = Model(model=\"cnn\").to(device=device)"
   ]
  },
  {
   "cell_type": "code",
   "execution_count": 3,
   "metadata": {},
   "outputs": [
    {
     "name": "stdout",
     "output_type": "stream",
     "text": [
      "--- Training Started with model ---\n",
      "Model(\n",
      "  (conv1): Conv2d(1, 32, kernel_size=(3, 3), stride=(1, 1))\n",
      "  (conv2): Conv2d(32, 64, kernel_size=(3, 3), stride=(1, 1))\n",
      "  (conv3): Conv2d(64, 128, kernel_size=(3, 3), stride=(1, 1))\n",
      "  (fc1): Linear(in_features=128, out_features=10, bias=False)\n",
      ")\n"
     ]
    }
   ],
   "source": [
    "from torch.autograd import Variable\n",
    "\n",
    "\n",
    "def train(net, train_loader, optimizer, criterion,  epoch=2):\n",
    "    net.train()\n",
    "    for e in range(epoch):\n",
    "        running_loss = 0.0  \n",
    "        for i, data in enumerate(train_loader, 0): \n",
    "            # get the inputs\n",
    "            inputs, labels = data # Return type for data in dataloader is tuple of (input_data, labels)\n",
    "            inputs = Variable(inputs).to(device=device)\n",
    "            labels = Variable(labels).to(device=device)\n",
    "            # zero the parameter gradients\n",
    "            optimizer.zero_grad()    \n",
    "\n",
    "            # forward + backward + optimize\n",
    "            outputs = net(inputs) # get output after passing through the network\n",
    "            loss = criterion(outputs, labels) # compute model's score using the loss function \n",
    "            loss.backward() # perform back-propagation from the loss\n",
    "            optimizer.step() # perform gradient descent with given optimizer\n",
    "\n",
    "            # print statistics\n",
    "            running_loss += loss.item()\n",
    "            if (i+1) % 500 == 0:    # print every 2000 mini-batches\n",
    "                print('[%d, %5d] loss: %.3f' % (e + 1, i + 1, running_loss / 500))\n",
    "                running_loss = 0.0\n",
    "\n",
    "criterion = nn.CrossEntropyLoss() \n",
    "models = [cnn_model]\n",
    "optimizers  = [torch.optim.Adam(cnn_model.parameters(), lr=0.001, )]\n",
    "\n",
    "\n",
    "for model, opti, in zip(models, optimizers):\n",
    "    print(\"--- Training Started with model ---\")\n",
    "    print(model)\n",
    "    train(model, trainDataLoader, opti, criterion, 0)\n"
   ]
  },
  {
   "cell_type": "code",
   "execution_count": 12,
   "metadata": {},
   "outputs": [
    {
     "name": "stdout",
     "output_type": "stream",
     "text": [
      "torch.Size([1, 128, 22, 22]) torch.Size([128])\n",
      "tensor([0.0629], device='cuda:0', grad_fn=<MvBackward0>)\n",
      "torch.Size([0, 22])\n"
     ]
    }
   ],
   "source": [
    "\n",
    "import sys\n",
    "sys.path.append(\"../\")\n",
    "from src.class_activation_map import class_activation_map\n",
    "from src.gradient_class_activation_map import gradient_class_activation_map\n",
    "\n",
    "x = trainDataLoader.dataset[4][0].cuda().clone()\n",
    "model = models[0]\n",
    "\n",
    "output, last_conv_feature, last_weights = model.forward_for_cam(x)\n",
    "last_weights = last_weights.squeeze(0)\n",
    "\n",
    "last_conv_feature = last_conv_feature.unsqueeze(0).clone()\n",
    "print(last_conv_feature.size(), last_weights.size())\n",
    "cam = class_activation_map(last_conv_feature, last_weights)\n",
    "grad_cam = gradient_class_activation_map(last_conv_feature, last_weights)\n",
    "\n",
    "index = cam['class_activation_map'][:-1].argmax(axis=-1)\n",
    "print(index.size())"
   ]
  },
  {
   "cell_type": "code",
   "execution_count": 13,
   "metadata": {},
   "outputs": [
    {
     "data": {
      "image/png": "[encoded data removed]",
      "text/plain": [
       "<Figure size 720x720 with 3 Axes>"
      ]
     },
     "metadata": {
      "needs_background": "light"
     },
     "output_type": "display_data"
    }
   ],
   "source": [
    "import matplotlib.pyplot as plt \n",
    "import torchvision.transforms as T\n",
    "\n",
    "upsampled = cam['class_activation_map']\n",
    "upsampled = T.Resize(28)(upsampled)\n",
    "fig, ax = plt.subplots(1, 3, constrained_layout=True, figsize=(10,10))\n",
    "\n",
    "\n",
    "for i, (input_attribution, name) in enumerate(zip([upsampled], [\"sensitivity\"])):\n",
    "    input = x.detach().cpu().permute(1,2,0).numpy()\n",
    "    input_attribution = input_attribution.detach().cpu().permute(1,2,0).numpy()\n",
    "    ax[0].imshow(input, cmap='binary')\n",
    "    ax[1].imshow(input_attribution, alpha=0.5, cmap='hot')\n",
    "    ax[2].imshow(input, cmap='binary')\n",
    "    ax[0].set_ylabel(name, fontsize=20)\n",
    "\n",
    "ax[0].set_title(\"original\")\n",
    "ax[1].set_title(\"gradient\")\n",
    "ax[2].set_title(\"overlay\")\n",
    "\n",
    "plt.show()\n",
    "\n"
   ]
  },
  {
   "cell_type": "code",
   "execution_count": 19,
   "metadata": {},
   "outputs": [
    {
     "data": {
      "image/png": "[encoded data removed]",
      "text/plain": [
       "<Figure size 720x720 with 3 Axes>"
      ]
     },
     "metadata": {
      "needs_background": "light"
     },
     "output_type": "display_data"
    }
   ],
   "source": [
    "import matplotlib.pyplot as plt \n",
    "import torchvision.transforms as T\n",
    "import torchvision \n",
    "\n",
    "upsampled = grad_cam['class_activation_map']\n",
    "upsampled = T.Resize(28, T.InterpolationMode.BILINEAR)(upsampled)\n",
    "\n",
    "fig, ax = plt.subplots(1, 3, constrained_layout=True, figsize=(10,10))\n",
    "\n",
    "for i, (input_attribution, name) in enumerate(zip([upsampled], [\"sensitivity\"])):\n",
    "    input = x.detach().cpu().permute(1,2,0).numpy()\n",
    "    input_attribution = input_attribution.detach().cpu().permute(1,2,0).numpy()\n",
    "    ax[0].imshow(input, cmap='binary')\n",
    "    ax[1].imshow(input_attribution, alpha=0.5, cmap='hot')\n",
    "    ax[2].imshow(input, cmap='binary')\n",
    "    ax[0].set_ylabel(name, fontsize=20)\n",
    "\n",
    "ax[0].set_title(\"original\")\n",
    "ax[1].set_title(\"gradient\")\n",
    "ax[2].set_title(\"overlay\")\n",
    "\n",
    "plt.show()\n",
    "\n"
   ]
  },
  {
   "cell_type": "code",
   "execution_count": 20,
   "metadata": {},
   "outputs": [
    {
     "data": {
      "text/plain": [
       "<matplotlib.image.AxesImage at 0x7f1808f555b0>"
      ]
     },
     "execution_count": 20,
     "metadata": {},
     "output_type": "execute_result"
    },
    {
     "data": {
      "image/png": "[encoded data removed]",
      "text/plain": [
       "<Figure size 432x288 with 1 Axes>"
      ]
     },
     "metadata": {
      "needs_background": "light"
     },
     "output_type": "display_data"
    }
   ],
   "source": [
    "plt.imshow(grad_cam['class_activation_map'].cpu().detach().permute(1,2,0))"
   ]
  },
  {
   "cell_type": "code",
   "execution_count": null,
   "metadata": {},
   "outputs": [],
   "source": []
  }
 ],
 "metadata": {
  "interpreter": {
   "hash": "cbc4c7136b33e244a0926e55a8aa1e57f1c839903e331a380cefab98f3f0f979"
  },
  "kernelspec": {
   "display_name": "Python 3.8.12 ('deeping')",
   "language": "python",
   "name": "python3"
  },
  "language_info": {
   "codemirror_mode": {
    "name": "ipython",
    "version": 3
   },
   "file_extension": ".py",
   "mimetype": "text/x-python",
   "name": "python",
   "nbconvert_exporter": "python",
   "pygments_lexer": "ipython3",
   "version": "3.8.12"
  },
  "orig_nbformat": 4
 },
 "nbformat": 4,
 "nbformat_minor": 2
}
