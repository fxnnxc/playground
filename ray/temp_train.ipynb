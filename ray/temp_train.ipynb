{
 "cells": [
  {
   "cell_type": "code",
   "execution_count": 1,
   "metadata": {},
   "outputs": [],
   "source": [
    "\n",
    "import ray\n",
    "from custom_trainer import DeepingDQNTrainer\n",
    "from ray.rllib.agents.dqn import DQNTrainer\n",
    "# Configure the algorithm.\n",
    "config = {\n",
    "    \"env\": \"CartPole-v0\",\n",
    "    \"num_workers\": 1,\n",
    "    \"num_gpus\":0,\n",
    "    \"framework\": \"torch\",\n",
    "    \"train_batch_size\":32,\n",
    "    \"model\": {\n",
    "        \"fcnet_hiddens\": [64, 64],\n",
    "        \"fcnet_activation\": \"relu\",\n",
    "        \"custom_model\": \n",
    "    },\n",
    "    \"evaluation_num_workers\": 0,\n",
    "    \"exploration_config\": {\n",
    "        \"type\": \"EpsilonGreedy\",\n",
    "        \"initial_epsilon\": 1.0,\n",
    "        \"final_epsilon\": 0.02,\n",
    "        \"epsilon_timesteps\": 10000, \n",
    "    },\n",
    "    \"log_level\": \"DEBUG\",\n",
    "    \"framework\":\"torch\"\n",
    "}"
   ]
  },
  {
   "cell_type": "code",
   "execution_count": 2,
   "metadata": {},
   "outputs": [],
   "source": [
    "# ray.tune.register_trainable(\"deeping\", DQNTrainer)\n",
    "# ray.tune.run(\"deeping\", config=config, stop={\"training_iteration\": 3})"
   ]
  },
  {
   "cell_type": "code",
   "execution_count": 4,
   "metadata": {},
   "outputs": [
    {
     "data": {
      "text/html": [
       "== Status ==<br>Current time: 2022-02-09 09:25:58 (running for 00:00:01.47)<br>Memory usage on this node: 14.3/16.0 GiB<br>Using FIFO scheduling algorithm.<br>Resources requested: 2.0/8 CPUs, 0/0 GPUs, 0.0/8.42 GiB heap, 0.0/4.21 GiB objects<br>Result logdir: /Users/bumjin/ray_results/deeping<br>Number of trials: 1/1 (1 RUNNING)<br><table>\n",
       "<thead>\n",
       "<tr><th>Trial name                     </th><th>status  </th><th>loc  </th></tr>\n",
       "</thead>\n",
       "<tbody>\n",
       "<tr><td>deeping_CartPole-v0_d9367_00000</td><td>RUNNING </td><td>     </td></tr>\n",
       "</tbody>\n",
       "</table><br><br>"
      ],
      "text/plain": [
       "<IPython.core.display.HTML object>"
      ]
     },
     "metadata": {},
     "output_type": "display_data"
    },
    {
     "name": "stderr",
     "output_type": "stream",
     "text": [
      "2022-02-09 09:25:58,158\tERROR trial_runner.py:958 -- Trial deeping_CartPole-v0_d9367_00000: Error processing event.\n",
      "Traceback (most recent call last):\n",
      "  File \"/Users/bumjin/opt/anaconda3/lib/python3.9/site-packages/ray/tune/trial_runner.py\", line 924, in _process_trial\n",
      "    results = self.trial_executor.fetch_result(trial)\n",
      "  File \"/Users/bumjin/opt/anaconda3/lib/python3.9/site-packages/ray/tune/ray_trial_executor.py\", line 787, in fetch_result\n",
      "    result = ray.get(trial_future[0], timeout=DEFAULT_GET_TIMEOUT)\n",
      "  File \"/Users/bumjin/opt/anaconda3/lib/python3.9/site-packages/ray/_private/client_mode_hook.py\", line 105, in wrapper\n",
      "    return func(*args, **kwargs)\n",
      "  File \"/Users/bumjin/opt/anaconda3/lib/python3.9/site-packages/ray/worker.py\", line 1715, in get\n",
      "    raise value\n",
      "ray.exceptions.RayActorError: The actor died because of an error raised in its creation task, \u001b[36mray::DeepingDQNTrainer.__init__()\u001b[39m (pid=3380, ip=127.0.0.1)\n",
      "  File \"/Users/bumjin/opt/anaconda3/lib/python3.9/site-packages/ray/rllib/agents/trainer_template.py\", line 102, in __init__\n",
      "    Trainer.__init__(self, config, env, logger_creator,\n",
      "  File \"/Users/bumjin/opt/anaconda3/lib/python3.9/site-packages/ray/rllib/agents/trainer.py\", line 661, in __init__\n",
      "    super().__init__(config, logger_creator, remote_checkpoint_dir,\n",
      "  File \"/Users/bumjin/opt/anaconda3/lib/python3.9/site-packages/ray/tune/trainable.py\", line 121, in __init__\n",
      "    self.setup(copy.deepcopy(self.config))\n",
      "  File \"/Users/bumjin/opt/anaconda3/lib/python3.9/site-packages/ray/rllib/agents/trainer_template.py\", line 113, in setup\n",
      "    super().setup(config)\n",
      "TypeError: super(type, obj): obj must be an instance or subtype of type\n"
     ]
    },
    {
     "name": "stdout",
     "output_type": "stream",
     "text": [
      "Result for deeping_CartPole-v0_d9367_00000:\n",
      "  trial_id: d9367_00000\n",
      "  \n"
     ]
    },
    {
     "data": {
      "text/html": [
       "== Status ==<br>Current time: 2022-02-09 09:25:58 (running for 00:00:01.48)<br>Memory usage on this node: 14.3/16.0 GiB<br>Using FIFO scheduling algorithm.<br>Resources requested: 0/8 CPUs, 0/0 GPUs, 0.0/8.42 GiB heap, 0.0/4.21 GiB objects<br>Result logdir: /Users/bumjin/ray_results/deeping<br>Number of trials: 1/1 (1 ERROR)<br><table>\n",
       "<thead>\n",
       "<tr><th>Trial name                     </th><th>status  </th><th>loc  </th></tr>\n",
       "</thead>\n",
       "<tbody>\n",
       "<tr><td>deeping_CartPole-v0_d9367_00000</td><td>ERROR   </td><td>     </td></tr>\n",
       "</tbody>\n",
       "</table><br>Number of errored trials: 1<br><table>\n",
       "<thead>\n",
       "<tr><th>Trial name                     </th><th style=\"text-align: right;\">  # failures</th><th>error file                                                                                       </th></tr>\n",
       "</thead>\n",
       "<tbody>\n",
       "<tr><td>deeping_CartPole-v0_d9367_00000</td><td style=\"text-align: right;\">           1</td><td>/Users/bumjin/ray_results/deeping/deeping_CartPole-v0_d9367_00000_0_2022-02-09_09-25-56/error.txt</td></tr>\n",
       "</tbody>\n",
       "</table><br>"
      ],
      "text/plain": [
       "<IPython.core.display.HTML object>"
      ]
     },
     "metadata": {},
     "output_type": "display_data"
    },
    {
     "name": "stderr",
     "output_type": "stream",
     "text": [
      "\u001b[2m\u001b[36m(DeepingDQNTrainer pid=3380)\u001b[0m 2022-02-09 09:25:58,153\tERROR worker.py:431 -- Exception raised in creation task: The actor died because of an error raised in its creation task, \u001b[36mray::DeepingDQNTrainer.__init__()\u001b[39m (pid=3380, ip=127.0.0.1)\n",
      "\u001b[2m\u001b[36m(DeepingDQNTrainer pid=3380)\u001b[0m   File \"/Users/bumjin/opt/anaconda3/lib/python3.9/site-packages/ray/rllib/agents/trainer_template.py\", line 102, in __init__\n",
      "\u001b[2m\u001b[36m(DeepingDQNTrainer pid=3380)\u001b[0m     Trainer.__init__(self, config, env, logger_creator,\n",
      "\u001b[2m\u001b[36m(DeepingDQNTrainer pid=3380)\u001b[0m   File \"/Users/bumjin/opt/anaconda3/lib/python3.9/site-packages/ray/rllib/agents/trainer.py\", line 661, in __init__\n",
      "\u001b[2m\u001b[36m(DeepingDQNTrainer pid=3380)\u001b[0m     super().__init__(config, logger_creator, remote_checkpoint_dir,\n",
      "\u001b[2m\u001b[36m(DeepingDQNTrainer pid=3380)\u001b[0m   File \"/Users/bumjin/opt/anaconda3/lib/python3.9/site-packages/ray/tune/trainable.py\", line 121, in __init__\n",
      "\u001b[2m\u001b[36m(DeepingDQNTrainer pid=3380)\u001b[0m     self.setup(copy.deepcopy(self.config))\n",
      "\u001b[2m\u001b[36m(DeepingDQNTrainer pid=3380)\u001b[0m   File \"/Users/bumjin/opt/anaconda3/lib/python3.9/site-packages/ray/rllib/agents/trainer_template.py\", line 113, in setup\n",
      "\u001b[2m\u001b[36m(DeepingDQNTrainer pid=3380)\u001b[0m     super().setup(config)\n",
      "\u001b[2m\u001b[36m(DeepingDQNTrainer pid=3380)\u001b[0m TypeError: super(type, obj): obj must be an instance or subtype of type\n"
     ]
    },
    {
     "ename": "TuneError",
     "evalue": "('Trials did not complete', [deeping_CartPole-v0_d9367_00000])",
     "output_type": "error",
     "traceback": [
      "\u001b[0;31m---------------------------------------------------------------------------\u001b[0m",
      "\u001b[0;31mTuneError\u001b[0m                                 Traceback (most recent call last)",
      "\u001b[0;32m/var/folders/28/jy8_vfjd7kn3d7khbpw4vjqh0000gn/T/ipykernel_3355/4170400316.py\u001b[0m in \u001b[0;36m<module>\u001b[0;34m\u001b[0m\n\u001b[1;32m      2\u001b[0m \u001b[0;32mfrom\u001b[0m \u001b[0msimple_q\u001b[0m \u001b[0;32mimport\u001b[0m \u001b[0mSimpleQTrainer\u001b[0m\u001b[0;34m\u001b[0m\u001b[0;34m\u001b[0m\u001b[0m\n\u001b[1;32m      3\u001b[0m \u001b[0mray\u001b[0m\u001b[0;34m.\u001b[0m\u001b[0mtune\u001b[0m\u001b[0;34m.\u001b[0m\u001b[0mregister_trainable\u001b[0m\u001b[0;34m(\u001b[0m\u001b[0;34m\"deeping\"\u001b[0m\u001b[0;34m,\u001b[0m \u001b[0mDeepingDQNTrainer\u001b[0m\u001b[0;34m)\u001b[0m\u001b[0;34m\u001b[0m\u001b[0;34m\u001b[0m\u001b[0m\n\u001b[0;32m----> 4\u001b[0;31m \u001b[0mray\u001b[0m\u001b[0;34m.\u001b[0m\u001b[0mtune\u001b[0m\u001b[0;34m.\u001b[0m\u001b[0mrun\u001b[0m\u001b[0;34m(\u001b[0m\u001b[0;34m\"deeping\"\u001b[0m\u001b[0;34m,\u001b[0m \u001b[0mconfig\u001b[0m\u001b[0;34m=\u001b[0m\u001b[0mconfig\u001b[0m\u001b[0;34m,\u001b[0m \u001b[0mstop\u001b[0m\u001b[0;34m=\u001b[0m\u001b[0;34m{\u001b[0m\u001b[0;34m\"training_iteration\"\u001b[0m\u001b[0;34m:\u001b[0m \u001b[0;36m3\u001b[0m\u001b[0;34m}\u001b[0m\u001b[0;34m)\u001b[0m\u001b[0;34m\u001b[0m\u001b[0;34m\u001b[0m\u001b[0m\n\u001b[0m",
      "\u001b[0;32m~/opt/anaconda3/lib/python3.9/site-packages/ray/tune/tune.py\u001b[0m in \u001b[0;36mrun\u001b[0;34m(run_or_experiment, name, metric, mode, stop, time_budget_s, config, resources_per_trial, num_samples, local_dir, search_alg, scheduler, keep_checkpoints_num, checkpoint_score_attr, checkpoint_freq, checkpoint_at_end, verbose, progress_reporter, log_to_file, trial_name_creator, trial_dirname_creator, sync_config, export_formats, max_failures, fail_fast, restore, server_port, resume, reuse_actors, trial_executor, raise_on_failed_trial, callbacks, max_concurrent_trials, queue_trials, loggers, _remote)\u001b[0m\n\u001b[1;32m    618\u001b[0m     \u001b[0;32mif\u001b[0m \u001b[0mincomplete_trials\u001b[0m\u001b[0;34m:\u001b[0m\u001b[0;34m\u001b[0m\u001b[0;34m\u001b[0m\u001b[0m\n\u001b[1;32m    619\u001b[0m         \u001b[0;32mif\u001b[0m \u001b[0mraise_on_failed_trial\u001b[0m \u001b[0;32mand\u001b[0m \u001b[0;32mnot\u001b[0m \u001b[0mstate\u001b[0m\u001b[0;34m[\u001b[0m\u001b[0msignal\u001b[0m\u001b[0;34m.\u001b[0m\u001b[0mSIGINT\u001b[0m\u001b[0;34m]\u001b[0m\u001b[0;34m:\u001b[0m\u001b[0;34m\u001b[0m\u001b[0;34m\u001b[0m\u001b[0m\n\u001b[0;32m--> 620\u001b[0;31m             \u001b[0;32mraise\u001b[0m \u001b[0mTuneError\u001b[0m\u001b[0;34m(\u001b[0m\u001b[0;34m\"Trials did not complete\"\u001b[0m\u001b[0;34m,\u001b[0m \u001b[0mincomplete_trials\u001b[0m\u001b[0;34m)\u001b[0m\u001b[0;34m\u001b[0m\u001b[0;34m\u001b[0m\u001b[0m\n\u001b[0m\u001b[1;32m    621\u001b[0m         \u001b[0;32melse\u001b[0m\u001b[0;34m:\u001b[0m\u001b[0;34m\u001b[0m\u001b[0;34m\u001b[0m\u001b[0m\n\u001b[1;32m    622\u001b[0m             \u001b[0mlogger\u001b[0m\u001b[0;34m.\u001b[0m\u001b[0merror\u001b[0m\u001b[0;34m(\u001b[0m\u001b[0;34m\"Trials did not complete: %s\"\u001b[0m\u001b[0;34m,\u001b[0m \u001b[0mincomplete_trials\u001b[0m\u001b[0;34m)\u001b[0m\u001b[0;34m\u001b[0m\u001b[0;34m\u001b[0m\u001b[0m\n",
      "\u001b[0;31mTuneError\u001b[0m: ('Trials did not complete', [deeping_CartPole-v0_d9367_00000])"
     ]
    }
   ],
   "source": [
    "from custom_trainer import DeepingDQNTrainer\n",
    "from simple_q import SimpleQTrainer\n",
    "ray.tune.register_trainable(\"deeping\", DeepingDQNTrainer)\n",
    "ray.tune.run(\"deeping\", config=config, stop={\"training_iteration\": 3})"
   ]
  },
  {
   "cell_type": "code",
   "execution_count": 5,
   "metadata": {},
   "outputs": [
    {
     "data": {
      "text/plain": [
       "['__class__',\n",
       " '__delattr__',\n",
       " '__dict__',\n",
       " '__dir__',\n",
       " '__doc__',\n",
       " '__eq__',\n",
       " '__format__',\n",
       " '__ge__',\n",
       " '__getattribute__',\n",
       " '__getstate__',\n",
       " '__gt__',\n",
       " '__hash__',\n",
       " '__init__',\n",
       " '__init_subclass__',\n",
       " '__le__',\n",
       " '__lt__',\n",
       " '__module__',\n",
       " '__ne__',\n",
       " '__new__',\n",
       " '__reduce__',\n",
       " '__reduce_ex__',\n",
       " '__repr__',\n",
       " '__setattr__',\n",
       " '__setstate__',\n",
       " '__sizeof__',\n",
       " '__str__',\n",
       " '__subclasshook__',\n",
       " '__weakref__',\n",
       " '_allow_unknown_configs',\n",
       " '_allow_unknown_subkeys',\n",
       " '_before_evaluate',\n",
       " '_close_logfiles',\n",
       " '_create_local_replay_buffer_if_necessary',\n",
       " '_create_logger',\n",
       " '_create_storage_client',\n",
       " '_default_config',\n",
       " '_evaluate',\n",
       " '_export_model',\n",
       " '_implements_method',\n",
       " '_init',\n",
       " '_kwargs_for_execution_plan',\n",
       " '_make_workers',\n",
       " '_maybe_save_to_cloud',\n",
       " '_name',\n",
       " '_open_logfiles',\n",
       " '_override_all_subkeys_if_type_changes',\n",
       " '_register_if_needed',\n",
       " '_storage_path',\n",
       " '_sync_filters_if_needed',\n",
       " '_sync_function_tpl',\n",
       " '_sync_weights_to_workers',\n",
       " '_try_recover',\n",
       " '_update_resources',\n",
       " '_validate_config',\n",
       " 'add_policy',\n",
       " 'cleanup',\n",
       " 'collect_metrics',\n",
       " 'compute_action',\n",
       " 'compute_actions',\n",
       " 'compute_single_action',\n",
       " 'default_resource_request',\n",
       " 'delete_checkpoint',\n",
       " 'evaluate',\n",
       " 'execution_plan',\n",
       " 'export_model',\n",
       " 'export_policy_checkpoint',\n",
       " 'export_policy_model',\n",
       " 'get_auto_filled_metrics',\n",
       " 'get_config',\n",
       " 'get_current_ip',\n",
       " 'get_default_config',\n",
       " 'get_default_policy_class',\n",
       " 'get_policy',\n",
       " 'get_state',\n",
       " 'get_weights',\n",
       " 'import_model',\n",
       " 'import_policy_model_from_h5',\n",
       " 'is_actor',\n",
       " 'iteration',\n",
       " 'load_checkpoint',\n",
       " 'log_result',\n",
       " 'logdir',\n",
       " 'merge_trainer_configs',\n",
       " 'remove_policy',\n",
       " 'reset',\n",
       " 'reset_config',\n",
       " 'resource_help',\n",
       " 'restore',\n",
       " 'restore_from_object',\n",
       " 'save',\n",
       " 'save_checkpoint',\n",
       " 'save_to_object',\n",
       " 'set_weights',\n",
       " 'setup',\n",
       " 'step',\n",
       " 'step_attempt',\n",
       " 'stop',\n",
       " 'train',\n",
       " 'train_buffered',\n",
       " 'training_iteration',\n",
       " 'trial_id',\n",
       " 'trial_name',\n",
       " 'trial_resources',\n",
       " 'try_recover_from_step_attempt',\n",
       " 'update_resources',\n",
       " 'uses_cloud_checkpointing',\n",
       " 'validate_config',\n",
       " 'validate_env',\n",
       " 'with_updates']"
      ]
     },
     "execution_count": 5,
     "metadata": {},
     "output_type": "execute_result"
    }
   ],
   "source": [
    "dir(SimpleQTrainer)"
   ]
  },
  {
   "cell_type": "code",
   "execution_count": null,
   "metadata": {},
   "outputs": [],
   "source": []
  }
 ],
 "metadata": {
  "interpreter": {
   "hash": "e23575e38234af5603235627c6b85dd47126d560d85eed01b33306e63f25f1df"
  },
  "kernelspec": {
   "display_name": "Python 3.9.7 ('base')",
   "language": "python",
   "name": "python3"
  },
  "language_info": {
   "codemirror_mode": {
    "name": "ipython",
    "version": 3
   },
   "file_extension": ".py",
   "mimetype": "text/x-python",
   "name": "python",
   "nbconvert_exporter": "python",
   "pygments_lexer": "ipython3",
   "version": "3.9.7"
  },
  "orig_nbformat": 4
 },
 "nbformat": 4,
 "nbformat_minor": 2
}
