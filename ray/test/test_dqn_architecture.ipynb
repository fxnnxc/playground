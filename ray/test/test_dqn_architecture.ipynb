{
 "cells": [
  {
   "cell_type": "code",
   "execution_count": 1,
   "metadata": {},
   "outputs": [
    {
     "data": {
      "text/plain": [
       "{'node_ip_address': '127.0.0.1',\n",
       " 'raylet_ip_address': '127.0.0.1',\n",
       " 'redis_address': '127.0.0.1:6379',\n",
       " 'object_store_address': '/tmp/ray/session_2022-02-10_16-27-28_126872_9064/sockets/plasma_store',\n",
       " 'raylet_socket_name': '/tmp/ray/session_2022-02-10_16-27-28_126872_9064/sockets/raylet',\n",
       " 'webui_url': None,\n",
       " 'session_dir': '/tmp/ray/session_2022-02-10_16-27-28_126872_9064',\n",
       " 'metrics_export_port': 62493,\n",
       " 'gcs_address': '127.0.0.1:60919',\n",
       " 'node_id': '04610d67fc11f8e272fcb8a81af8cc4edbaac313a911c7837a9bf54e'}"
      ]
     },
     "execution_count": 1,
     "metadata": {},
     "output_type": "execute_result"
    }
   ],
   "source": [
    "import ray \n",
    "ray.init()"
   ]
  },
  {
   "cell_type": "code",
   "execution_count": 2,
   "metadata": {},
   "outputs": [],
   "source": [
    "from ray import tune\n",
    "from ray.rllib.agents.dqn.dqn_torch_model import DQNTorchModel\n",
    "from ray.rllib.models.torch.torch_modelv2 import TorchModelV2\n",
    "import gym \n",
    "from typing import Sequence\n",
    "from ray.rllib.utils.typing import ModelConfigDict\n",
    "import torch \n",
    "import torch.nn as nn \n",
    "\n",
    "# custom model is processed before the fully connected layer \n",
    "\n",
    "class CustomModel(TorchModelV2, nn.Module):\n",
    "    def __init__(\n",
    "        self,\n",
    "        obs_space: gym.spaces.Space,\n",
    "        action_space: gym.spaces.Space,\n",
    "        num_outputs: int,\n",
    "        model_config: ModelConfigDict,\n",
    "        name: str,\n",
    "\n",
    "        ):\n",
    "        TorchModelV2.__init__(self, obs_space, action_space, num_outputs,\n",
    "                              model_config, name)\n",
    "        nn.Module.__init__(self)\n",
    "        self.linear1 = nn.Linear(self.obs_space.shape[0], 30)\n",
    "        self.linear2 = nn.Linear(30,50)\n",
    "        self.linear3 = nn.Linear(50, model_config['fcnet_hiddens'][0])\n",
    "            \n",
    "    def forward(self, input_dict, state, seq_lens):\n",
    "        x =input_dict['obs']\n",
    "        x = self.linear1(x)\n",
    "        x = nn.functional.relu(x)\n",
    "        x = self.linear2(x)\n",
    "        x = nn.functional.relu(x)   \n",
    "        x = self.linear3(x)\n",
    "        return x, state"
   ]
  },
  {
   "cell_type": "code",
   "execution_count": 23,
   "metadata": {},
   "outputs": [
    {
     "data": {
      "text/html": [
       "== Status ==<br>Current time: 2022-02-10 16:35:22 (running for 00:00:10.11)<br>Memory usage on this node: 14.5/16.0 GiB: ***LOW MEMORY*** less than 10% of the memory on this node is available for use. This can cause unexpected crashes. Consider reducing the memory used by your application or reducing the Ray object store size by setting `object_store_memory` when calling `ray.init`.<br>Using FIFO scheduling algorithm.<br>Resources requested: 0/8 CPUs, 0/0 GPUs, 0.0/8.5 GiB heap, 0.0/4.25 GiB objects<br>Result logdir: /Users/bumjin/src/playground/ray/test/DQN<br>Number of trials: 1/1 (1 TERMINATED)<br><br>"
      ],
      "text/plain": [
       "<IPython.core.display.HTML object>"
      ]
     },
     "metadata": {},
     "output_type": "display_data"
    },
    {
     "name": "stderr",
     "output_type": "stream",
     "text": [
      "2022-02-10 16:35:23,248\tINFO tune.py:636 -- Total run time: 10.67 seconds (10.10 seconds for the tuning loop).\n"
     ]
    },
    {
     "data": {
      "text/plain": [
       "<ray.tune.analysis.experiment_analysis.ExperimentAnalysis at 0x7f9838dba640>"
      ]
     },
     "execution_count": 23,
     "metadata": {},
     "output_type": "execute_result"
    }
   ],
   "source": [
    "from ray.rllib.agents.dqn import DQNTrainer\n",
    "\n",
    "config={\"env\":\"CartPole-v0\", \n",
    "                \"framework\":\"torch\", \n",
    "                \"hiddens\":[128],\n",
    "                \"dueling\":False,\n",
    "                \"double_q\":False,\n",
    "                \"model\":{\"custom_model\": CustomModel, \n",
    "                          \"fcnet_hiddens\":[32],\n",
    "                          \"fcnet_activation\":\"relu\",\n",
    "                         }\n",
    "                 }\n",
    "tune.run(\"DQN\", \n",
    "         config=config, \n",
    "         stop={\"training_iteration\":5} , \n",
    "         checkpoint_freq=2,\n",
    "         local_dir=\".\",\n",
    "         verbose=1)"
   ]
  },
  {
   "cell_type": "code",
   "execution_count": 25,
   "metadata": {},
   "outputs": [
    {
     "name": "stderr",
     "output_type": "stream",
     "text": [
      "2022-02-10 16:35:29,194\tWARNING util.py:55 -- Install gputil for GPU system monitoring.\n",
      "2022-02-10 16:35:29,198\tINFO trainable.py:472 -- Restored on 127.0.0.1 from checkpoint: DQN/DQN_CartPole-v0_fb565_00000_0_2022-02-10_16-35-12/checkpoint_000004/checkpoint-4\n",
      "2022-02-10 16:35:29,200\tINFO trainable.py:480 -- Current state after restoring: {'_iteration': 4, '_timesteps_total': 128, '_time_total': 6.641242742538452, '_episodes_total': 196}\n"
     ]
    }
   ],
   "source": [
    "trainer = DQNTrainer(config=config)\n",
    "trainer.restore(\"DQN/DQN_CartPole-v0_fb565_00000_0_2022-02-10_16-35-12/checkpoint_000004/checkpoint-4\")"
   ]
  },
  {
   "cell_type": "code",
   "execution_count": 26,
   "metadata": {},
   "outputs": [
    {
     "data": {
      "text/plain": [
       "CustomModel_as_DQNTorchModel(\n",
       "  (linear1): Linear(in_features=4, out_features=30, bias=True)\n",
       "  (linear2): Linear(in_features=30, out_features=50, bias=True)\n",
       "  (linear3): Linear(in_features=50, out_features=32, bias=True)\n",
       "  (advantage_module): Sequential(\n",
       "    (dueling_A_0): SlimFC(\n",
       "      (_model): Sequential(\n",
       "        (0): Linear(in_features=32, out_features=128, bias=True)\n",
       "        (1): ReLU()\n",
       "      )\n",
       "    )\n",
       "    (A): SlimFC(\n",
       "      (_model): Sequential(\n",
       "        (0): Linear(in_features=128, out_features=2, bias=True)\n",
       "      )\n",
       "    )\n",
       "  )\n",
       ")"
      ]
     },
     "execution_count": 26,
     "metadata": {},
     "output_type": "execute_result"
    }
   ],
   "source": [
    "policy = trainer.get_policy()\n",
    "policy.model"
   ]
  },
  {
   "cell_type": "code",
   "execution_count": null,
   "metadata": {},
   "outputs": [],
   "source": []
  }
 ],
 "metadata": {
  "interpreter": {
   "hash": "728ed223cfa85ea1ef5dcc6c79a939ffd9902707d91f95b40f547e46903ca84f"
  },
  "kernelspec": {
   "display_name": "Python 3.9.7 ('base')",
   "language": "python",
   "name": "python3"
  },
  "language_info": {
   "codemirror_mode": {
    "name": "ipython",
    "version": 3
   },
   "file_extension": ".py",
   "mimetype": "text/x-python",
   "name": "python",
   "nbconvert_exporter": "python",
   "pygments_lexer": "ipython3",
   "version": "3.9.7"
  },
  "orig_nbformat": 4
 },
 "nbformat": 4,
 "nbformat_minor": 2
}
