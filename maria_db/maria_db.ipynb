{
 "cells": [
  {
   "cell_type": "code",
   "execution_count": null,
   "metadata": {},
   "outputs": [],
   "source": [
    "# pip install pymysql\n",
    "\n",
    "import pymysql \n",
    "\n",
    "\n",
    "conn=None\n",
    "cur=None\n",
    "\n",
    "db_config = {\n",
    "    \"host\":\"test_ip\",\n",
    "    \"user\": 'root',\n",
    "    'password':\"password\",\n",
    "    'db':\"pythonDB\",\n",
    "    'charset':\"utf8\"\n",
    "}\n",
    "conn = pymysql.connect(**db_config)\n",
    "cur = conn.cursor()"
   ]
  },
  {
   "cell_type": "code",
   "execution_count": null,
   "metadata": {},
   "outputs": [
    {
     "ename": "",
     "evalue": "",
     "output_type": "error",
     "traceback": [
      "\u001b[1;31mFailed to start the Kernel. \n",
      "request to http://127.0.0.1:8888/api/sessions?1646454606850 failed, reason: connect ECONNREFUSED 127.0.0.1:8888. \n",
      "View Jupyter <a href='command:jupyter.viewOutput'>log</a> for further details."
     ]
    }
   ],
   "source": [
    "sql = \"CREATE TABLE IF NOT EXISTS userTable (id char(4), userName char(10), email char(15), birthYear int\"\n",
    "cur.execute(sql)\n",
    "conn.commit()\n",
    "conn.close()"
   ]
  },
  {
   "cell_type": "markdown",
   "metadata": {},
   "source": [
    "### TCreate "
   ]
  },
  {
   "cell_type": "code",
   "execution_count": null,
   "metadata": {},
   "outputs": [],
   "source": []
  }
 ],
 "metadata": {
  "kernelspec": {
   "display_name": "Python 3 (ipykernel)",
   "language": "python",
   "name": "python3"
  },
  "orig_nbformat": 4
 },
 "nbformat": 4,
 "nbformat_minor": 2
}
