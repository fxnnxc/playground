{
 "cells": [
  {
   "cell_type": "code",
   "execution_count": 1,
   "metadata": {},
   "outputs": [
    {
     "ename": "SyntaxError",
     "evalue": "invalid syntax (4094797086.py, line 9)",
     "output_type": "error",
     "traceback": [
      "\u001b[0;36m  File \u001b[0;32m\"/var/folders/28/jy8_vfjd7kn3d7khbpw4vjqh0000gn/T/ipykernel_69784/4094797086.py\"\u001b[0;36m, line \u001b[0;32m9\u001b[0m\n\u001b[0;31m    Y = sne(Xw rbf_kernel, iteration=10)\u001b[0m\n\u001b[0m               ^\u001b[0m\n\u001b[0;31mSyntaxError\u001b[0m\u001b[0;31m:\u001b[0m invalid syntax\n"
     ]
    }
   ],
   "source": [
    "\n",
    "import torch\n",
    "from t_sne import *\n",
    "\n",
    "if __name__ == \"__main__\":\n",
    "    X = torch.rand(10,2)\n",
    "    for i in range(10):\n",
    "        X[i, 0] = i*10\n",
    "        X[i, 1] = 2*i +1 \n",
    "    Y = sne(Xw rbf_kernel, iteration=10)\n",
    "    plot_2d(Y.detach().numpy())\n",
    "    plt.figure()\n",
    "    plt.scatter(X[:,0], X[:,1])"
   ]
  },
  {
   "cell_type": "code",
   "execution_count": null,
   "metadata": {},
   "outputs": [],
   "source": []
  }
 ],
 "metadata": {
  "interpreter": {
   "hash": "a7b0f23059da05ec3dc9c9920e959bdc05ba12ff66cd1e09a32a89c316d0d40c"
  },
  "kernelspec": {
   "display_name": "Python 3.6.8 64-bit ('torch': conda)",
   "language": "python",
   "name": "python3"
  },
  "language_info": {
   "codemirror_mode": {
    "name": "ipython",
    "version": 3
   },
   "file_extension": ".py",
   "mimetype": "text/x-python",
   "name": "python",
   "nbconvert_exporter": "python",
   "pygments_lexer": "ipython3",
   "version": "3.9.7"
  },
  "orig_nbformat": 4
 },
 "nbformat": 4,
 "nbformat_minor": 2
}
